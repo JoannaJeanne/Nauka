{
 "cells": [
  {
   "cell_type": "code",
   "execution_count": null,
   "id": "df7b00fa-d30f-4959-88de-16f097782a80",
   "metadata": {},
   "outputs": [],
   "source": [
    "#! /usr/bin/env python3\n",
    "\n",
    "# -*- coding: utf-8 -*-\n",
    "\n",
    " \n",
    "\n",
    "print(\"Alfabet w porządku naturalnym:\")\n",
    "\n",
    "x = 0\n",
    "\n",
    "for i in range(65, 91):\n",
    "\n",
    "    litera = chr(i)\n",
    "\n",
    "    x += 1\n",
    "\n",
    "    tmp = litera + \" => \" + litera.lower()\n",
    "\n",
    "    if i > 65 and x % 5 == 0:\n",
    "\n",
    "        x = 0\n",
    "\n",
    "        tmp += \"\\n\"\n",
    "\n",
    "    print(tmp, end=\" \")\n",
    "\n",
    " \n",
    "\n",
    "x = -1\n",
    "\n",
    "print(\"\\nAlfabet w porządku odwróconym:\")\n",
    "\n",
    "for i in range(122, 96, -1):\n",
    "\n",
    "    litera = chr(i)\n",
    "\n",
    "    x += 1\n",
    "\n",
    "    if x == 5:\n",
    "\n",
    "        x = 0\n",
    "\n",
    "        print(\"\\n\", end=\" \")\n",
    "\n",
    "    print(litera.upper(), \"=>\", litera, end=\" \")"
   ]
  }
 ],
 "metadata": {
  "kernelspec": {
   "display_name": "Python 3 (ipykernel)",
   "language": "python",
   "name": "python3"
  },
  "language_info": {
   "codemirror_mode": {
    "name": "ipython",
    "version": 3
   },
   "file_extension": ".py",
   "mimetype": "text/x-python",
   "name": "python",
   "nbconvert_exporter": "python",
   "pygments_lexer": "ipython3",
   "version": "3.10.0"
  }
 },
 "nbformat": 4,
 "nbformat_minor": 5
}
